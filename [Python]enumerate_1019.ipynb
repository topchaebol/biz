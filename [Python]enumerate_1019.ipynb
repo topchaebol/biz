{
  "nbformat": 4,
  "nbformat_minor": 0,
  "metadata": {
    "colab": {
      "provenance": [],
      "authorship_tag": "ABX9TyN0ASEgRmUE0sBi/Y7wiMIh",
      "include_colab_link": true
    },
    "kernelspec": {
      "name": "python3",
      "display_name": "Python 3"
    },
    "language_info": {
      "name": "python"
    }
  },
  "cells": [
    {
      "cell_type": "markdown",
      "metadata": {
        "id": "view-in-github",
        "colab_type": "text"
      },
      "source": [
        "<a href=\"https://colab.research.google.com/github/topchaebol/biz/blob/main/%5BPython%5Denumerate_1019.ipynb\" target=\"_parent\"><img src=\"https://colab.research.google.com/assets/colab-badge.svg\" alt=\"Open In Colab\"/></a>"
      ]
    },
    {
      "cell_type": "code",
      "execution_count": 11,
      "metadata": {
        "colab": {
          "base_uri": "https://localhost:8080/"
        },
        "id": "HpdeZhBykxH9",
        "outputId": "e5f2b908-227b-4504-f27d-5b37b7ec3bb2"
      },
      "outputs": [
        {
          "output_type": "execute_result",
          "data": {
            "text/plain": [
              "[(19, '봄'), (20, '여름'), (21, '가을'), (22, '겨울')]"
            ]
          },
          "metadata": {},
          "execution_count": 11
        }
      ],
      "source": [
        "seasons = ['봄', '여름', '가을', '겨울']\n",
        "list(enumerate(seasons,19))"
      ]
    },
    {
      "cell_type": "code",
      "source": [
        "enumerate(seasons)"
      ],
      "metadata": {
        "colab": {
          "base_uri": "https://localhost:8080/"
        },
        "id": "xfzxqcSpk2g8",
        "outputId": "fba30d27-959e-45ec-b951-8dda31b51a6d"
      },
      "execution_count": 10,
      "outputs": [
        {
          "output_type": "execute_result",
          "data": {
            "text/plain": [
              "<enumerate at 0x7cff59a3c4c0>"
            ]
          },
          "metadata": {},
          "execution_count": 10
        }
      ]
    },
    {
      "cell_type": "code",
      "source": [],
      "metadata": {
        "id": "MbkXtNK_lqzo"
      },
      "execution_count": null,
      "outputs": []
    }
  ]
}