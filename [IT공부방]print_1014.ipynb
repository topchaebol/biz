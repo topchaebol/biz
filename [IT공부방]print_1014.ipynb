{
  "nbformat": 4,
  "nbformat_minor": 0,
  "metadata": {
    "colab": {
      "provenance": [],
      "authorship_tag": "ABX9TyM3pOXsTDo44L8JFrFIMLZ0",
      "include_colab_link": true
    },
    "kernelspec": {
      "name": "python3",
      "display_name": "Python 3"
    },
    "language_info": {
      "name": "python"
    }
  },
  "cells": [
    {
      "cell_type": "markdown",
      "metadata": {
        "id": "view-in-github",
        "colab_type": "text"
      },
      "source": [
        "<a href=\"https://colab.research.google.com/github/topchaebol/biz/blob/main/%5BIT%EA%B3%B5%EB%B6%80%EB%B0%A9%5Dprint_1014.ipynb\" target=\"_parent\"><img src=\"https://colab.research.google.com/assets/colab-badge.svg\" alt=\"Open In Colab\"/></a>"
      ]
    },
    {
      "cell_type": "code",
      "execution_count": 1,
      "metadata": {
        "colab": {
          "base_uri": "https://localhost:8080/"
        },
        "id": "r-97lug1S6MO",
        "outputId": "b1999a23-6448-40fb-c0f0-07eca74a0b40"
      },
      "outputs": [
        {
          "output_type": "stream",
          "name": "stdout",
          "text": [
            "IT공부방에서 뭘 배우고 싶으세요?\n"
          ]
        }
      ],
      "source": [
        "print(\"IT공부방에서 뭘 배우고 싶으세요?\")"
      ]
    },
    {
      "cell_type": "code",
      "source": [],
      "metadata": {
        "id": "8_7P5mE_S-ad"
      },
      "execution_count": null,
      "outputs": []
    }
  ]
}